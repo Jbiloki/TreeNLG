{
 "cells": [
  {
   "cell_type": "code",
   "execution_count": 1,
   "metadata": {},
   "outputs": [],
   "source": [
    "import numpy as np"
   ]
  },
  {
   "cell_type": "code",
   "execution_count": 14,
   "metadata": {},
   "outputs": [],
   "source": [
    "positives = np.load('../stacked_data/numpy_transformed/positive_seq_and_score.npy')\n",
    "negatives = np.load('../stacked_data/numpy_transformed/negative_seq_and_score.npy')"
   ]
  },
  {
   "cell_type": "code",
   "execution_count": 15,
   "metadata": {},
   "outputs": [
    {
     "data": {
      "text/plain": [
       "((186912, 134), (186912, 134))"
      ]
     },
     "execution_count": 15,
     "metadata": {},
     "output_type": "execute_result"
    }
   ],
   "source": [
    "positives.shape, negatives.shape"
   ]
  },
  {
   "cell_type": "code",
   "execution_count": 17,
   "metadata": {},
   "outputs": [],
   "source": [
    "import torch\n",
    "from torch import nn"
   ]
  },
  {
   "cell_type": "code",
   "execution_count": 37,
   "metadata": {},
   "outputs": [],
   "source": [
    "class DoubleHead(nn.Module):\n",
    "  def __init__(self):\n",
    "    super(DoubleHead, self).__init__()\n",
    "    self.lstm = nn.LSTM(1, 64)\n",
    "    self.dense_1 = nn.Linear(64, 32)\n",
    "    self.dense_2 = nn.Linear(1, 1)\n",
    "    self.dense_3 = nn.Linear(33, 1)\n",
    "\n",
    "  def forward(self, input_1, input_2):\n",
    "    out, _ = self.lstm(input_1)\n",
    "    out = self.dense_1(out)\n",
    "    out2 = self.dense_2(input_2)\n",
    "    combined = torch.cat((out.view(out.size(0), -1),\n",
    "                          out2.view(out2.size(0), -1)), dim=1)\n",
    "    out = self.dense_3(combined)\n",
    "    return out\n",
    "    "
   ]
  },
  {
   "cell_type": "code",
   "execution_count": 23,
   "metadata": {},
   "outputs": [],
   "source": [
    "targets = np.ones((positives.shape[0], 1))\n",
    "pos_in_1, pos_in_2 = np.hsplit(positives, [-1])\n",
    "neg_in_1, neg_in_2 = np.hsplit(negatives, [-1])"
   ]
  },
  {
   "cell_type": "code",
   "execution_count": 26,
   "metadata": {},
   "outputs": [],
   "source": [
    "pos_in_1 = torch.from_numpy(pos_in_1).float()\n",
    "pos_in_2 = torch.from_numpy(pos_in_2).float()\n",
    "neg_in_1 = torch.from_numpy(neg_in_1).float()\n",
    "neg_in_2 = torch.from_numpy(neg_in_2).float()\n",
    "targets = torch.from_numpy(targets).float()"
   ]
  },
  {
   "cell_type": "code",
   "execution_count": 35,
   "metadata": {},
   "outputs": [],
   "source": [
    "pos_in_1 = pos_in_1.unsqueeze(-1)\n",
    "pos_in_2 = pos_in_2.unsqueeze(-1)"
   ]
  },
  {
   "cell_type": "code",
   "execution_count": 38,
   "metadata": {},
   "outputs": [],
   "source": [
    "model = DoubleHead()"
   ]
  },
  {
   "cell_type": "code",
   "execution_count": 39,
   "metadata": {},
   "outputs": [],
   "source": [
    "loss = torch.nn.BCELoss()\n",
    "opt = torch.optim.SGD(model.parameters(), lr=1e-2)"
   ]
  },
  {
   "cell_type": "code",
   "execution_count": null,
   "metadata": {},
   "outputs": [],
   "source": [
    "batch_size = 32\n",
    "for i in range(500):\n",
    "  for j in range(0, targets.size()[0], batch_size):\n",
    "    opt.zero_grad()\n",
    "    pos_out = model(pos_in_1, pos_in_2)\n",
    "    neg_out = model(neg_in_1, neg_in_2)\n",
    "    margin = pos_out - neg_out\n",
    "    epoch_loss = loss(margin, targets)\n",
    "    if i % 50 == 0:\n",
    "      print(i, epoch_loss.item())\n",
    "    loss.backward()\n",
    "    opt.step()"
   ]
  },
  {
   "cell_type": "code",
   "execution_count": null,
   "metadata": {},
   "outputs": [],
   "source": []
  },
  {
   "cell_type": "code",
   "execution_count": null,
   "metadata": {},
   "outputs": [],
   "source": []
  }
 ],
 "metadata": {
  "kernelspec": {
   "display_name": "Python [conda env:TreeNLG] *",
   "language": "python",
   "name": "conda-env-TreeNLG-py"
  },
  "language_info": {
   "codemirror_mode": {
    "name": "ipython",
    "version": 3
   },
   "file_extension": ".py",
   "mimetype": "text/x-python",
   "name": "python",
   "nbconvert_exporter": "python",
   "pygments_lexer": "ipython3",
   "version": "3.6.10"
  }
 },
 "nbformat": 4,
 "nbformat_minor": 4
}
