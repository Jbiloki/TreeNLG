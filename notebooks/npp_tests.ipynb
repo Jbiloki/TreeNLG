{
 "cells": [
  {
   "cell_type": "code",
   "execution_count": 1,
   "metadata": {},
   "outputs": [],
   "source": [
    "import numpy as np"
   ]
  },
  {
   "cell_type": "code",
   "execution_count": 29,
   "metadata": {},
   "outputs": [],
   "source": [
    "positives = np.load('../stacked_data/numpy_transformed/positive_seq_and_score.npy')\n",
    "negatives = np.load('../stacked_data/numpy_transformed/negative_seq_and_score.npy')"
   ]
  },
  {
   "cell_type": "code",
   "execution_count": 30,
   "metadata": {},
   "outputs": [],
   "source": [
    "positives[~np.isfinite(positives)] = 0\n",
    "negatives[~np.isfinite(negatives)] = 0"
   ]
  },
  {
   "cell_type": "code",
   "execution_count": 31,
   "metadata": {},
   "outputs": [
    {
     "data": {
      "text/plain": [
       "((186912, 134), (186912, 134))"
      ]
     },
     "execution_count": 31,
     "metadata": {},
     "output_type": "execute_result"
    }
   ],
   "source": [
    "positives.shape, negatives.shape"
   ]
  },
  {
   "cell_type": "code",
   "execution_count": 32,
   "metadata": {},
   "outputs": [
    {
     "name": "stdout",
     "output_type": "stream",
     "text": [
      "False\n",
      "False\n",
      "True\n",
      "True\n"
     ]
    }
   ],
   "source": [
    "print(np.isnan(positives).any())\n",
    "print(np.isnan(negatives).any())\n",
    "print(np.isfinite(negatives).all())\n",
    "print(np.isfinite(positives).all())"
   ]
  },
  {
   "cell_type": "code",
   "execution_count": 18,
   "metadata": {},
   "outputs": [
    {
     "name": "stderr",
     "output_type": "stream",
     "text": [
      "/Users/nguyen/anaconda3/envs/TreeNLG/lib/python3.6/site-packages/ipykernel_launcher.py:4: RuntimeWarning: invalid value encountered in true_divide\n",
      "  after removing the cwd from sys.path.\n"
     ]
    }
   ],
   "source": [
    "#normalize:\n",
    "def norm(x):\n",
    "  sums = x.sum(axis=1)\n",
    "  return x/sums[:, np.newaxis]\n",
    "positives = norm(positives)\n",
    "negatives = norm(negatives)"
   ]
  },
  {
   "cell_type": "code",
   "execution_count": 33,
   "metadata": {},
   "outputs": [],
   "source": [
    "import torch\n",
    "from torch import nn"
   ]
  },
  {
   "cell_type": "code",
   "execution_count": 34,
   "metadata": {},
   "outputs": [],
   "source": [
    "class DoubleHead(nn.Module):\n",
    "  def __init__(self):\n",
    "    super(DoubleHead, self).__init__()\n",
    "    self.lstm = nn.LSTM(1, 64)\n",
    "    self.dense_1 = nn.Linear(64, 32)\n",
    "    self.dense_2 = nn.Linear(1, 1)\n",
    "    self.dense_3 = nn.Linear(33, 1)\n",
    "    self.relu = nn.ReLU()\n",
    "\n",
    "  def forward(self, input_1, input_2):\n",
    "    out, _ = self.lstm(input_1)\n",
    "    out = self.relu(out)\n",
    "    out = self.dense_1(out)\n",
    "    out = self.relu(out)\n",
    "    out2 = self.dense_2(input_2)\n",
    "    out = torch.sum(out, dim=1)\n",
    "    out2 = self.relu(out2)\n",
    "    combined = torch.cat((out.view(out.size(0), -1),\n",
    "                          out2.view(out2.size(0), -1)), dim=1)\n",
    "    out = self.dense_3(combined)\n",
    "    return out\n",
    "    "
   ]
  },
  {
   "cell_type": "code",
   "execution_count": 35,
   "metadata": {},
   "outputs": [],
   "source": [
    "targets = np.ones((positives.shape[0], 1))\n",
    "pos_in_1, pos_in_2 = np.hsplit(positives, [-1])\n",
    "neg_in_1, neg_in_2 = np.hsplit(negatives, [-1])"
   ]
  },
  {
   "cell_type": "code",
   "execution_count": 36,
   "metadata": {},
   "outputs": [],
   "source": [
    "pos_in_1 = torch.from_numpy(pos_in_1).float()\n",
    "pos_in_2 = torch.from_numpy(pos_in_2).float()\n",
    "neg_in_1 = torch.from_numpy(neg_in_1).float()\n",
    "neg_in_2 = torch.from_numpy(neg_in_2).float()\n",
    "targets = torch.from_numpy(targets).float()"
   ]
  },
  {
   "cell_type": "code",
   "execution_count": 37,
   "metadata": {},
   "outputs": [],
   "source": [
    "pos_in_1 = pos_in_1.unsqueeze(-1)\n",
    "neg_in_1 = neg_in_1.unsqueeze(-1)"
   ]
  },
  {
   "cell_type": "code",
   "execution_count": 43,
   "metadata": {},
   "outputs": [],
   "source": [
    "model = DoubleHead()"
   ]
  },
  {
   "cell_type": "code",
   "execution_count": 44,
   "metadata": {},
   "outputs": [],
   "source": [
    "loss = torch.nn.BCELoss()\n",
    "opt = torch.optim.SGD(model.parameters(), lr=0.001)"
   ]
  },
  {
   "cell_type": "code",
   "execution_count": 45,
   "metadata": {},
   "outputs": [
    {
     "name": "stdout",
     "output_type": "stream",
     "text": [
      "0 0.6896109580993652\n",
      "10 0.6957273483276367\n",
      "20 0.5017055869102478\n",
      "30 0.16276729106903076\n",
      "40 0.09231386333703995\n",
      "50 0.07377491146326065\n",
      "60 0.048929788172245026\n",
      "70 0.03806595504283905\n",
      "80 1.1033697128295898\n",
      "90 0.08307085931301117\n"
     ]
    }
   ],
   "source": [
    "batch_size = 128\n",
    "sig = nn.Sigmoid()\n",
    "for i in range(100):\n",
    "  permutation = torch.randperm(targets.size()[0])\n",
    "  for j in range(0, targets.size()[0], batch_size):\n",
    "    opt.zero_grad()\n",
    "    indices = permutation[j:j+batch_size]\n",
    "    pos_batch_in_1, pos_batch_in_2 = pos_in_1[indices], pos_in_2[indices]\n",
    "    neg_batch_in_1, neg_batch_in_2 = neg_in_1[indices], neg_in_2[indices]\n",
    "    target_batch = targets[indices]\n",
    "    pos_out = model(pos_batch_in_1, pos_batch_in_2)\n",
    "    neg_out = model(neg_batch_in_1, neg_batch_in_2)\n",
    "    margin = sig(pos_out - neg_out)\n",
    "    epoch_loss = loss(margin, target_batch)\n",
    "    epoch_loss.backward()\n",
    "    opt.step()\n",
    "  if i % 10 == 0:\n",
    "      print(i, epoch_loss.item())"
   ]
  },
  {
   "cell_type": "code",
   "execution_count": 42,
   "metadata": {},
   "outputs": [],
   "source": [
    "old = model"
   ]
  },
  {
   "cell_type": "code",
   "execution_count": 70,
   "metadata": {},
   "outputs": [],
   "source": [
    "a, b = neg_in_1[0], neg_in_2[0]"
   ]
  },
  {
   "cell_type": "code",
   "execution_count": 71,
   "metadata": {},
   "outputs": [],
   "source": [
    "a = torch.from_numpy(np.expand_dims(a, 0))"
   ]
  },
  {
   "cell_type": "code",
   "execution_count": 72,
   "metadata": {},
   "outputs": [
    {
     "data": {
      "text/plain": [
       "(torch.Size([1, 133, 1]), torch.Size([1]))"
      ]
     },
     "execution_count": 72,
     "metadata": {},
     "output_type": "execute_result"
    }
   ],
   "source": [
    "a.shape, b.shape"
   ]
  },
  {
   "cell_type": "code",
   "execution_count": 78,
   "metadata": {},
   "outputs": [
    {
     "data": {
      "text/plain": [
       "-141.86825561523438"
      ]
     },
     "execution_count": 78,
     "metadata": {},
     "output_type": "execute_result"
    }
   ],
   "source": [
    "model(a, b).item()"
   ]
  },
  {
   "cell_type": "code",
   "execution_count": 75,
   "metadata": {},
   "outputs": [
    {
     "name": "stdout",
     "output_type": "stream",
     "text": [
      "CODE_OF_CONDUCT.md   compute_tree_acc.py  \u001b[1m\u001b[36moptim\u001b[m\u001b[m\r\n",
      "CONTRIBUTING.md      \u001b[1m\u001b[36mconstrained_decoding\u001b[m\u001b[m options.py\r\n",
      "LICENSE              \u001b[1m\u001b[36mdata\u001b[m\u001b[m                 \u001b[1m\u001b[36mscripts\u001b[m\u001b[m\r\n",
      "README.md            \u001b[1m\u001b[36mdata-prep\u001b[m\u001b[m            \u001b[1m\u001b[36mstacked_data\u001b[m\u001b[m\r\n",
      "__init__.py          \u001b[1m\u001b[36me2e-metrics\u001b[m\u001b[m          \u001b[1m\u001b[36mtasks\u001b[m\u001b[m\r\n",
      "\u001b[1m\u001b[36m__pycache__\u001b[m\u001b[m          \u001b[1m\u001b[36mexample\u001b[m\u001b[m\r\n",
      "\u001b[1m\u001b[36mcheckpoints\u001b[m\u001b[m          \u001b[1m\u001b[36mnotebooks\u001b[m\u001b[m\r\n"
     ]
    }
   ],
   "source": [
    "!ls ../"
   ]
  },
  {
   "cell_type": "code",
   "execution_count": 76,
   "metadata": {},
   "outputs": [
    {
     "name": "stderr",
     "output_type": "stream",
     "text": [
      "/Users/nguyen/anaconda3/envs/TreeNLG/lib/python3.6/site-packages/torch/serialization.py:402: UserWarning: Couldn't retrieve source code for container of type DoubleHead. It won't be checked for correctness upon loading.\n",
      "  \"type \" + obj.__name__ + \". It won't be checked \"\n"
     ]
    }
   ],
   "source": [
    "torch.save(model, '../ranker.pt')"
   ]
  },
  {
   "cell_type": "code",
   "execution_count": 77,
   "metadata": {},
   "outputs": [],
   "source": [
    "torch.save(model.state_dict(), '../ranker_state.pts')"
   ]
  },
  {
   "cell_type": "code",
   "execution_count": null,
   "metadata": {},
   "outputs": [],
   "source": []
  }
 ],
 "metadata": {
  "kernelspec": {
   "display_name": "Python [conda env:TreeNLG] *",
   "language": "python",
   "name": "conda-env-TreeNLG-py"
  },
  "language_info": {
   "codemirror_mode": {
    "name": "ipython",
    "version": 3
   },
   "file_extension": ".py",
   "mimetype": "text/x-python",
   "name": "python",
   "nbconvert_exporter": "python",
   "pygments_lexer": "ipython3",
   "version": "3.6.10"
  }
 },
 "nbformat": 4,
 "nbformat_minor": 4
}
